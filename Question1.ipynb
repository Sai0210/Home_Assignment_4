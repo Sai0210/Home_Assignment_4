{
  "nbformat": 4,
  "nbformat_minor": 0,
  "metadata": {
    "colab": {
      "provenance": [],
      "authorship_tag": "ABX9TyMtrSqPiYOXDMBZOrPq4nav",
      "include_colab_link": true
    },
    "kernelspec": {
      "name": "python3",
      "display_name": "Python 3"
    },
    "language_info": {
      "name": "python"
    }
  },
  "cells": [
    {
      "cell_type": "markdown",
      "metadata": {
        "id": "view-in-github",
        "colab_type": "text"
      },
      "source": [
        "<a href=\"https://colab.research.google.com/github/Sai0210/Home_Assignment_4/blob/main/Question1.ipynb\" target=\"_parent\"><img src=\"https://colab.research.google.com/assets/colab-badge.svg\" alt=\"Open In Colab\"/></a>"
      ]
    },
    {
      "cell_type": "code",
      "execution_count": 2,
      "metadata": {
        "colab": {
          "base_uri": "https://localhost:8080/"
        },
        "id": "CGK5WpMtx8G_",
        "outputId": "52d249f9-1e3f-47b4-d2b2-adf3c2152b3e"
      },
      "outputs": [
        {
          "output_type": "stream",
          "name": "stderr",
          "text": [
            "[nltk_data] Downloading package punkt to /root/nltk_data...\n",
            "[nltk_data]   Package punkt is already up-to-date!\n",
            "[nltk_data] Downloading package stopwords to /root/nltk_data...\n",
            "[nltk_data]   Package stopwords is already up-to-date!\n",
            "[nltk_data] Downloading package averaged_perceptron_tagger to\n",
            "[nltk_data]     /root/nltk_data...\n",
            "[nltk_data]   Package averaged_perceptron_tagger is already up-to-\n",
            "[nltk_data]       date!\n",
            "[nltk_data] Downloading package punkt_tab to /root/nltk_data...\n"
          ]
        },
        {
          "output_type": "stream",
          "name": "stdout",
          "text": [
            "Original Tokens – All words and punctuation split from the sentence\n",
            "['NLP', 'techniques', 'are', 'used', 'in', 'virtual', 'assistants', 'like', 'Alexa', 'and', 'Siri', '.']\n",
            "------------------------------\n",
            "Tokens Without Stopwords – Only meaningful words remain\n",
            "['NLP', 'techniques', 'used', 'virtual', 'assistants', 'like', 'Alexa', 'Siri', '.']\n",
            "------------------------------\n",
            "Stemmed Words – Each word is reduced to its base/root form\n",
            "['nlp', 'techniqu', 'use', 'virtual', 'assist', 'like', 'alexa', 'siri', '.']\n"
          ]
        },
        {
          "output_type": "stream",
          "name": "stderr",
          "text": [
            "[nltk_data]   Unzipping tokenizers/punkt_tab.zip.\n"
          ]
        }
      ],
      "source": [
        "import nltk\n",
        "from nltk.tokenize import word_tokenize\n",
        "from nltk.corpus import stopwords\n",
        "from nltk.stem import PorterStemmer\n",
        "\n",
        "def preprocess_sentence(sentence):\n",
        "    # 1. Tokenize the sentence\n",
        "    tokens = word_tokenize(sentence)\n",
        "    print(\"Original Tokens – All words and punctuation split from the sentence\")\n",
        "    print(tokens)\n",
        "    print(\"-\" * 30)\n",
        "\n",
        "    # 2. Remove stopwords\n",
        "    stop_words = set(stopwords.words('english'))\n",
        "    filtered_tokens = [w for w in tokens if not w.lower() in stop_words]\n",
        "    print(\"Tokens Without Stopwords – Only meaningful words remain\")\n",
        "    print(filtered_tokens)\n",
        "    print(\"-\" * 30)\n",
        "\n",
        "    # 3. Apply stemming\n",
        "    porter = PorterStemmer()\n",
        "    stemmed_words = [porter.stem(word) for word in filtered_tokens]\n",
        "    print(\"Stemmed Words – Each word is reduced to its base/root form\")\n",
        "    print(stemmed_words)\n",
        "\n",
        "if __name__ == \"__main__\":\n",
        "    sentence = \"NLP techniques are used in virtual assistants like Alexa and Siri.\"\n",
        "    # Download necessary NLTK data if you haven't already\n",
        "    try:\n",
        "        stopwords.words('english')\n",
        "        PorterStemmer()\n",
        "        word_tokenize(\"example\") # This might trigger the need for punkt and its dependencies\n",
        "    except LookupError:\n",
        "        nltk.download('punkt')\n",
        "        nltk.download('stopwords')\n",
        "        nltk.download('averaged_perceptron_tagger') # You might need this for more advanced tasks\n",
        "    try:\n",
        "        nltk.data.find('tokenizers/punkt_tab.zip')\n",
        "    except LookupError:\n",
        "        nltk.download('punkt_tab')\n",
        "\n",
        "    preprocess_sentence(sentence)"
      ]
    },
    {
      "cell_type": "code",
      "source": [],
      "metadata": {
        "id": "vbLePO66x_Hg"
      },
      "execution_count": null,
      "outputs": []
    }
  ]
}