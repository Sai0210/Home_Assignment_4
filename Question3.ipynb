{
  "nbformat": 4,
  "nbformat_minor": 0,
  "metadata": {
    "colab": {
      "provenance": [],
      "authorship_tag": "ABX9TyPKiWHY6EVKIuVVvtPFQ0Jb",
      "include_colab_link": true
    },
    "kernelspec": {
      "name": "python3",
      "display_name": "Python 3"
    },
    "language_info": {
      "name": "python"
    }
  },
  "cells": [
    {
      "cell_type": "markdown",
      "metadata": {
        "id": "view-in-github",
        "colab_type": "text"
      },
      "source": [
        "<a href=\"https://colab.research.google.com/github/Sai0210/Home_Assignment_4/blob/main/Question3.ipynb\" target=\"_parent\"><img src=\"https://colab.research.google.com/assets/colab-badge.svg\" alt=\"Open In Colab\"/></a>"
      ]
    },
    {
      "cell_type": "code",
      "execution_count": null,
      "metadata": {
        "colab": {
          "base_uri": "https://localhost:8080/"
        },
        "id": "bFHIMHQg55ed",
        "outputId": "eeadec7f-60d9-4f94-e9dc-2fabd6578af9"
      },
      "outputs": [
        {
          "output_type": "stream",
          "name": "stdout",
          "text": [
            "Attention Weights (after softmax):\n",
            "[[0.7310586  0.26894143]\n",
            " [0.26894143 0.7310586 ]]\n",
            "\n",
            "Output Matrix:\n",
            "[[2.0757656 3.0757658 4.0757656 5.0757656]\n",
            " [3.9242344 4.9242344 5.9242344 6.9242344]]\n"
          ]
        }
      ],
      "source": [
        "import numpy as np\n",
        "import torch\n",
        "import torch.nn.functional as F\n",
        "\n",
        "def scaled_dot_product_attention(Q, K, V):\n",
        "\n",
        "    # Convert numpy arrays to PyTorch tensors\n",
        "    Q_torch = torch.tensor(Q, dtype=torch.float32)\n",
        "    K_torch = torch.tensor(K, dtype=torch.float32)\n",
        "    V_torch = torch.tensor(V, dtype=torch.float32)\n",
        "\n",
        "    # 1. Compute the dot product of Q and K transpose\n",
        "    matmul_qk = torch.matmul(Q_torch, K_torch.transpose(-2, -1))  # (..., seq_len_q, seq_len_k)\n",
        "\n",
        "    # 2. Scale the result by dividing by sqrt(d_k)\n",
        "    d_k = K.shape[-1]\n",
        "    scaled_attention_logits = matmul_qk / np.sqrt(d_k)\n",
        "\n",
        "    # 3. Apply softmax to get attention weights\n",
        "    attention_weights = F.softmax(scaled_attention_logits, dim=-1)  # (..., seq_len_q, seq_len_k)\n",
        "\n",
        "    # 4. Multiply the weights by V to get the output\n",
        "    output = torch.matmul(attention_weights, V_torch)  # (..., seq_len_q, d_v)\n",
        "\n",
        "    return attention_weights.numpy(), output.numpy()\n",
        "\n",
        "if __name__ == \"__main__\":\n",
        "    Q = np.array([[1, 0, 1, 0], [0, 1, 0, 1]])\n",
        "    K = np.array([[1, 0, 1, 0], [0, 1, 0, 1]])\n",
        "    V = np.array([[1, 2, 3, 4], [5, 6, 7, 8]])\n",
        "\n",
        "    attention_weights, output = scaled_dot_product_attention(Q, K, V)\n",
        "\n",
        "    print(\"Attention Weights (after softmax):\")\n",
        "    print(attention_weights)\n",
        "    print(\"\\nOutput Matrix:\")\n",
        "    print(output)"
      ]
    },
    {
      "cell_type": "code",
      "source": [],
      "metadata": {
        "id": "7ruc7zDd5_m7"
      },
      "execution_count": null,
      "outputs": []
    }
  ]
}