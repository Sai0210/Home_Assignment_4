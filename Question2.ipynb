{
  "nbformat": 4,
  "nbformat_minor": 0,
  "metadata": {
    "colab": {
      "provenance": [],
      "authorship_tag": "ABX9TyN3DxAiyuU8hrYsopto+kuw",
      "include_colab_link": true
    },
    "kernelspec": {
      "name": "python3",
      "display_name": "Python 3"
    },
    "language_info": {
      "name": "python"
    }
  },
  "cells": [
    {
      "cell_type": "markdown",
      "metadata": {
        "id": "view-in-github",
        "colab_type": "text"
      },
      "source": [
        "<a href=\"https://colab.research.google.com/github/Sai0210/Home_Assignment_4/blob/main/Question2.ipynb\" target=\"_parent\"><img src=\"https://colab.research.google.com/assets/colab-badge.svg\" alt=\"Open In Colab\"/></a>"
      ]
    },
    {
      "cell_type": "code",
      "execution_count": 1,
      "metadata": {
        "colab": {
          "base_uri": "https://localhost:8080/"
        },
        "id": "H4OQqfbz1-uo",
        "outputId": "8c1b6425-b0e5-4054-af25-ff1bc4c52d1d"
      },
      "outputs": [
        {
          "output_type": "stream",
          "name": "stdout",
          "text": [
            "Entity: Barack Obama\n",
            "Label: PERSON\n",
            "Start: 0, End: 12\n",
            "--------------------\n",
            "Entity: 44th\n",
            "Label: ORDINAL\n",
            "Start: 27, End: 31\n",
            "--------------------\n",
            "Entity: the United States\n",
            "Label: GPE\n",
            "Start: 45, End: 62\n",
            "--------------------\n",
            "Entity: the Nobel Peace Prize\n",
            "Label: WORK_OF_ART\n",
            "Start: 71, End: 92\n",
            "--------------------\n",
            "Entity: 2009\n",
            "Label: DATE\n",
            "Start: 96, End: 100\n",
            "--------------------\n"
          ]
        }
      ],
      "source": [
        "import spacy\n",
        "\n",
        "def extract_named_entities(sentence):\n",
        "\n",
        "    # Load the English language model\n",
        "    nlp = spacy.load(\"en_core_web_sm\")\n",
        "\n",
        "    # Process the sentence\n",
        "    doc = nlp(sentence)\n",
        "\n",
        "    # Iterate through the detected entities\n",
        "    for ent in doc.ents:\n",
        "        print(f\"Entity: {ent.text}\")\n",
        "        print(f\"Label: {ent.label_}\")\n",
        "        print(f\"Start: {ent.start_char}, End: {ent.end_char}\")\n",
        "        print(\"-\" * 20)\n",
        "\n",
        "if __name__ == \"__main__\":\n",
        "    sentence = \"Barack Obama served as the 44th President of the United States and won the Nobel Peace Prize in 2009.\"\n",
        "    extract_named_entities(sentence)"
      ]
    },
    {
      "cell_type": "code",
      "source": [],
      "metadata": {
        "id": "Pon4kdi_4zHf"
      },
      "execution_count": null,
      "outputs": []
    }
  ]
}